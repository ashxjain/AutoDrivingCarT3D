{
  "nbformat": 4,
  "nbformat_minor": 0,
  "metadata": {
    "accelerator": "GPU",
    "colab": {
      "name": "AutoDrivingCarT3D.ipynb",
      "provenance": [],
      "collapsed_sections": []
    },
    "kernelspec": {
      "name": "python2",
      "display_name": "Python 2"
    },
    "language_info": {
      "codemirror_mode": {
        "name": "ipython",
        "version": 2
      },
      "file_extension": ".py",
      "mimetype": "text/x-python",
      "name": "python",
      "nbconvert_exporter": "python",
      "pygments_lexer": "ipython2",
      "version": "2.7.16"
    }
  },
  "cells": [
    {
      "cell_type": "markdown",
      "metadata": {
        "colab_type": "text",
        "id": "WXu1r8qvSzWf"
      },
      "source": [
        "# Twin-Delayed DDPG\n",
        "\n",
        "Complete credit goes to this [awesome Deep Reinforcement Learning 2.0 Course on Udemy](https://www.udemy.com/course/deep-reinforcement-learning/) for the code."
      ]
    },
    {
      "cell_type": "markdown",
      "metadata": {
        "id": "oIKSm5DiTOIC",
        "colab_type": "text"
      },
      "source": [
        "# Understanding Implementation\n",
        "* Because we can't run Kivy on Colab and because we don't have GPUs on our desktop, following is the strategy to train\n",
        "* Load the sand image and move the coordinates (Vector) in env.Step() for simulating car movement.\n",
        "* State is captured by cropping a portion of sand image from car's position. And then rotating it the direction of car in such a way that car's orientation is horizontal i.e 0 degrees from x-axis. This state is passed to Actor network\n",
        "* Action is 2 dimensional. 1st being velocity-x value and 2nd being angle\n",
        "* To concat action with state for Critic network, we repeat velocity-x value state_dim's height times, as one row and angle as another row. This way critic network input dimension becomes (state_height + 2 * state_width) where state_height & state_width comes from state dimension and 2 comes from action dimension"
      ]
    },
    {
      "cell_type": "markdown",
      "metadata": {
        "colab_type": "text",
        "id": "Xjm2onHdT-Av"
      },
      "source": [
        "## Importing the libraries"
      ]
    },
    {
      "cell_type": "code",
      "metadata": {
        "id": "X1oeheFtR9ZW",
        "colab_type": "code",
        "colab": {
          "base_uri": "https://localhost:8080/",
          "height": 236
        },
        "outputId": "90e5f2ff-3c01-41c1-b3e4-7e56f7becd41"
      },
      "source": [
        "!pip install kivy"
      ],
      "execution_count": 65,
      "outputs": [
        {
          "output_type": "stream",
          "text": [
            "Requirement already satisfied: kivy in /usr/local/lib/python2.7/dist-packages (1.11.1)\n",
            "Requirement already satisfied: pygments in /usr/local/lib/python2.7/dist-packages (from kivy) (2.1.3)\n",
            "Requirement already satisfied: Kivy-Garden>=0.1.4 in /usr/local/lib/python2.7/dist-packages (from kivy) (0.1.4)\n",
            "Requirement already satisfied: docutils in /usr/local/lib/python2.7/dist-packages (from kivy) (0.14)\n",
            "Requirement already satisfied: requests in /usr/local/lib/python2.7/dist-packages (from Kivy-Garden>=0.1.4->kivy) (2.21.0)\n",
            "Requirement already satisfied: urllib3<1.25,>=1.21.1 in /usr/local/lib/python2.7/dist-packages (from requests->Kivy-Garden>=0.1.4->kivy) (1.24.3)\n",
            "Requirement already satisfied: certifi>=2017.4.17 in /usr/local/lib/python2.7/dist-packages (from requests->Kivy-Garden>=0.1.4->kivy) (2019.6.16)\n",
            "Requirement already satisfied: chardet<3.1.0,>=3.0.2 in /usr/local/lib/python2.7/dist-packages (from requests->Kivy-Garden>=0.1.4->kivy) (3.0.4)\n",
            "Requirement already satisfied: idna<2.9,>=2.5 in /usr/local/lib/python2.7/dist-packages (from requests->Kivy-Garden>=0.1.4->kivy) (2.8)\n"
          ],
          "name": "stdout"
        }
      ]
    },
    {
      "cell_type": "code",
      "metadata": {
        "colab_type": "code",
        "id": "Ikr2p0Js8iB4",
        "colab": {}
      },
      "source": [
        "%matplotlib notebook\n",
        "\n",
        "import os\n",
        "import time\n",
        "import random\n",
        "import numpy as np\n",
        "import matplotlib.pyplot as plt\n",
        "import PIL\n",
        "import matplotlib.patches as patches\n",
        "import matplotlib.animation as animation\n",
        "\n",
        "import torch\n",
        "import torch.nn as nn\n",
        "import torch.nn.functional as F\n",
        "from torch.autograd import Variable\n",
        "from collections import deque\n",
        "from PIL import Image as PILImage"
      ],
      "execution_count": 0,
      "outputs": []
    },
    {
      "cell_type": "markdown",
      "metadata": {
        "colab_type": "text",
        "id": "Y2nGdtlKVydr"
      },
      "source": [
        "## Step 1: We initialize the Experience Replay memory"
      ]
    },
    {
      "cell_type": "code",
      "metadata": {
        "colab_type": "code",
        "id": "u5rW0IDB8nTO",
        "colab": {}
      },
      "source": [
        "class ReplayBuffer(object):\n",
        "\n",
        "  def __init__(self, max_size=1e6):\n",
        "    self.storage = []\n",
        "    self.max_size = max_size\n",
        "    self.ptr = 0\n",
        "\n",
        "  def add(self, transition):\n",
        "    if len(self.storage) == self.max_size:\n",
        "      self.storage[int(self.ptr)] = transition\n",
        "      self.ptr = (self.ptr + 1) % self.max_size\n",
        "    else:\n",
        "      self.storage.append(transition)\n",
        "\n",
        "  def sample(self, batch_size):\n",
        "    ind = np.random.randint(0, len(self.storage), size=batch_size)\n",
        "    batch_states, batch_next_states, batch_actions, batch_rewards, batch_dones = [], [], [], [], []\n",
        "    for i in ind: \n",
        "      state, next_state, action, reward, done = self.storage[i]\n",
        "      batch_states.append(np.array(state, copy=False))\n",
        "      batch_next_states.append(np.array(next_state.cpu(), copy=False))\n",
        "      batch_actions.append(np.array(action, copy=False))\n",
        "      batch_rewards.append(np.array(reward, copy=False))\n",
        "      batch_dones.append(np.array(done, copy=False))\n",
        "    return np.array(batch_states), np.array(batch_next_states), np.array(batch_actions), np.array(batch_rewards).reshape(-1, 1), np.array(batch_dones).reshape(-1, 1)"
      ],
      "execution_count": 0,
      "outputs": []
    },
    {
      "cell_type": "code",
      "metadata": {
        "id": "ppZ7G3DACBPV",
        "colab_type": "code",
        "colab": {}
      },
      "source": [
        "# Selecting the device (CPU or GPU)\n",
        "device = torch.device(\"cuda\" if torch.cuda.is_available() else \"cpu\")"
      ],
      "execution_count": 0,
      "outputs": []
    },
    {
      "cell_type": "markdown",
      "metadata": {
        "colab_type": "text",
        "id": "Jb7TTaHxWbQD"
      },
      "source": [
        "## Step 2: We build one neural network for the Actor model and one neural network for the Actor target"
      ]
    },
    {
      "cell_type": "code",
      "metadata": {
        "colab_type": "code",
        "id": "Rb1ukP8YS-YV",
        "colab": {}
      },
      "source": [
        "def conv2d_block(in_channels, out_channels):\n",
        "    return nn.Sequential(\n",
        "        nn.BatchNorm2d(in_channels),\n",
        "        nn.Conv2d(in_channels=in_channels, out_channels=out_channels, kernel_size=(3, 3), padding=0),\n",
        "        nn.ReLU(),\n",
        "        nn.BatchNorm2d(out_channels),\n",
        "        nn.Conv2d(in_channels=out_channels, out_channels=out_channels, kernel_size=(3, 3), padding=0),\n",
        "        nn.ReLU(),\n",
        "        nn.BatchNorm2d(out_channels),\n",
        "        nn.Dropout2d(0.1)\n",
        "    )\n",
        "\n",
        "def transition_block(in_channels, out_channels):\n",
        "    return nn.Sequential(\n",
        "        nn.Conv2d(in_channels=in_channels, out_channels=out_channels, kernel_size=(1, 1), padding=0),\n",
        "        nn.ReLU(),\n",
        "        nn.MaxPool2d(kernel_size=2, stride=2),\n",
        "        nn.Dropout2d(0.1)\n",
        "    )"
      ],
      "execution_count": 0,
      "outputs": []
    },
    {
      "cell_type": "code",
      "metadata": {
        "colab_type": "code",
        "id": "8GcWn3yUQpkl",
        "colab": {}
      },
      "source": [
        "# Creating the architecture of the Neural Network\n",
        "class Actor(nn.Module):\n",
        "    def __init__(self, state_dim, action_dim, max_action):\n",
        "        super(Actor, self).__init__()\n",
        "        # size after below block = input_size - 2\n",
        "        self.convblock1 = nn.Sequential(\n",
        "            nn.Conv2d(in_channels=1, out_channels=16, kernel_size=(3, 3), padding=0),\n",
        "            nn.ReLU()\n",
        "        )\n",
        "        # size after below block = input_size - 2 - 4\n",
        "        self.convblock2 = conv2d_block(in_channels=16, out_channels=16)\n",
        "        # size after below block = (input_size - 2 - 4) / 2\n",
        "        self.transitionblock = transition_block(in_channels=16, out_channels=10)\n",
        "        # size after below block = ((input_size - 2 - 4) / 2) - 4\n",
        "        self.convblock3 = conv2d_block(in_channels=10, out_channels=16)\n",
        "        # size after below block = ((input_size - 2 - 4) / 2) - 4\n",
        "        self.convblock4 = nn.Sequential(\n",
        "            nn.Conv2d(in_channels=16, out_channels=10, kernel_size=(1, 1), padding=0),\n",
        "            nn.ReLU(),\n",
        "            nn.BatchNorm2d(10)\n",
        "        )\n",
        "        conv_output_size_h = ((state_dim[0] - 2 - 4) / 2) - 4\n",
        "        conv_output_size_w = ((state_dim[1] - 2 - 4) / 2) - 4\n",
        "        linear_input_size = conv_output_size_w * conv_output_size_h * 10\n",
        "        self.fc = nn.Linear(linear_input_size, action_dim)\n",
        "        self.max_action = max_action\n",
        "\n",
        "    def forward(self, x):\n",
        "        x = self.convblock1(x)\n",
        "        x = self.convblock2(x)\n",
        "        x = self.transitionblock(x)\n",
        "        x = self.convblock3(x)\n",
        "        x = self.convblock4(x)\n",
        "        x = self.fc(x.view(x.size(0), -1))\n",
        "        x = self.max_action * torch.tanh(x)\n",
        "        return x"
      ],
      "execution_count": 0,
      "outputs": []
    },
    {
      "cell_type": "code",
      "metadata": {
        "id": "T4VLNPzfW9wP",
        "colab_type": "code",
        "colab": {
          "base_uri": "https://localhost:8080/",
          "height": 876
        },
        "outputId": "99c1211b-2077-4dcf-e7e2-8c6ebd18934a"
      },
      "source": [
        "from torchsummary import summary\n",
        "\n",
        "model = Actor((32,32),2,10).to(device)\n",
        "summary(model, input_size=(1, 32, 32))"
      ],
      "execution_count": 71,
      "outputs": [
        {
          "output_type": "stream",
          "text": [
            "----------------------------------------------------------------\n",
            "        Layer (type)               Output Shape         Param #\n",
            "================================================================\n",
            "            Conv2d-1           [-1, 16, 30, 30]             160\n",
            "              ReLU-2           [-1, 16, 30, 30]               0\n",
            "       BatchNorm2d-3           [-1, 16, 30, 30]              32\n",
            "            Conv2d-4           [-1, 16, 28, 28]           2,320\n",
            "              ReLU-5           [-1, 16, 28, 28]               0\n",
            "       BatchNorm2d-6           [-1, 16, 28, 28]              32\n",
            "            Conv2d-7           [-1, 16, 26, 26]           2,320\n",
            "              ReLU-8           [-1, 16, 26, 26]               0\n",
            "       BatchNorm2d-9           [-1, 16, 26, 26]              32\n",
            "        Dropout2d-10           [-1, 16, 26, 26]               0\n",
            "           Conv2d-11           [-1, 10, 26, 26]             170\n",
            "             ReLU-12           [-1, 10, 26, 26]               0\n",
            "        MaxPool2d-13           [-1, 10, 13, 13]               0\n",
            "        Dropout2d-14           [-1, 10, 13, 13]               0\n",
            "      BatchNorm2d-15           [-1, 10, 13, 13]              20\n",
            "           Conv2d-16           [-1, 16, 11, 11]           1,456\n",
            "             ReLU-17           [-1, 16, 11, 11]               0\n",
            "      BatchNorm2d-18           [-1, 16, 11, 11]              32\n",
            "           Conv2d-19             [-1, 16, 9, 9]           2,320\n",
            "             ReLU-20             [-1, 16, 9, 9]               0\n",
            "      BatchNorm2d-21             [-1, 16, 9, 9]              32\n",
            "        Dropout2d-22             [-1, 16, 9, 9]               0\n",
            "           Conv2d-23             [-1, 10, 9, 9]             170\n",
            "             ReLU-24             [-1, 10, 9, 9]               0\n",
            "      BatchNorm2d-25             [-1, 10, 9, 9]              20\n",
            "           Linear-26                    [-1, 2]           1,622\n",
            "================================================================\n",
            "Total params: 10,738\n",
            "Trainable params: 10,738\n",
            "Non-trainable params: 0\n",
            "----------------------------------------------------------------\n",
            "Input size (MB): 0.00\n",
            "Forward/backward pass size (MB): 1.19\n",
            "Params size (MB): 0.04\n",
            "Estimated Total Size (MB): 1.24\n",
            "----------------------------------------------------------------\n"
          ],
          "name": "stdout"
        }
      ]
    },
    {
      "cell_type": "markdown",
      "metadata": {
        "colab_type": "text",
        "id": "HRDDce8FXef7"
      },
      "source": [
        "## Step 3: We build two neural networks for the two Critic models and two neural networks for the two Critic targets"
      ]
    },
    {
      "cell_type": "code",
      "metadata": {
        "colab_type": "code",
        "id": "5svIwtleSxLW",
        "colab": {}
      },
      "source": [
        "# Creating the architecture of the Neural Network\n",
        "class Critic(nn.Module):\n",
        "    def __init__(self, state_dim, action_dim):\n",
        "        super(Critic, self).__init__()\n",
        "        # Defining the first Critic neural network\n",
        "        # size after below block = input_size - 2\n",
        "        self.c1_convblock1 = nn.Sequential(\n",
        "            nn.Conv2d(in_channels=1, out_channels=16, kernel_size=(3, 3), padding=0),\n",
        "            nn.ReLU()\n",
        "        )\n",
        "        # size after below block = input_size - 2 - 4\n",
        "        self.c1_convblock2 = conv2d_block(in_channels=16, out_channels=16)\n",
        "        # size after below block = (input_size - 2 - 4) / 2\n",
        "        self.c1_transitionblock = transition_block(in_channels=16, out_channels=10)\n",
        "        # size after below block = ((input_size - 2 - 4) / 2) - 4\n",
        "        self.c1_convblock3 = conv2d_block(in_channels=10, out_channels=16)\n",
        "        # size after below block = ((input_size - 2 - 4) / 2) - 4\n",
        "        self.c1_convblock4 = nn.Sequential(\n",
        "            nn.Conv2d(in_channels=16, out_channels=10, kernel_size=(1, 1), padding=0),\n",
        "            nn.ReLU(),\n",
        "            nn.BatchNorm2d(10)\n",
        "        )\n",
        "        conv_output_size_h = ((state_dim[0] + action_dim - 2 - 4) / 2) - 4\n",
        "        conv_output_size_w = ((state_dim[1] - 2 - 4) / 2) - 4\n",
        "        linear_input_size = conv_output_size_w * conv_output_size_h * 10\n",
        "        self.c1_fc = nn.Linear(linear_input_size, 1)\n",
        "\n",
        "        # Defining the second Critic neural network\n",
        "        # size after below block = input_size - 2\n",
        "        self.c2_convblock1 = nn.Sequential(\n",
        "            nn.Conv2d(in_channels=1, out_channels=16, kernel_size=(3, 3), padding=0),\n",
        "            nn.ReLU()\n",
        "        )\n",
        "        # size after below block = input_size - 2 - 4\n",
        "        self.c2_convblock2 = conv2d_block(in_channels=16, out_channels=16)\n",
        "        # size after below block = (input_size - 2 - 4) / 2\n",
        "        self.c2_transitionblock = transition_block(in_channels=16, out_channels=10)\n",
        "        # size after below block = ((input_size - 2 - 4) / 2) - 4\n",
        "        self.c2_convblock3 = conv2d_block(in_channels=10, out_channels=16)\n",
        "        # size after below block = ((input_size - 2 - 4) / 2) - 4\n",
        "        self.c2_convblock4 = nn.Sequential(\n",
        "            nn.Conv2d(in_channels=16, out_channels=10, kernel_size=(1, 1), padding=0),\n",
        "            nn.ReLU(),\n",
        "            nn.BatchNorm2d(10)\n",
        "        )\n",
        "        conv_output_size_h = ((state_dim[0] + action_dim - 2 - 4) / 2) - 4\n",
        "        conv_output_size_w = ((state_dim[1] - 2 - 4) / 2) - 4\n",
        "        linear_input_size = conv_output_size_w * conv_output_size_h * 10\n",
        "        self.c2_fc = nn.Linear(linear_input_size, 1)\n",
        "\n",
        "    def forward(self, x, u):\n",
        "      xu = torch.cat([x, u], 2)\n",
        "      # Forward-Propagation on the first Critic Neural Network\n",
        "      x1 = self.c1_convblock1(xu)\n",
        "      x1 = self.c1_convblock2(x1)\n",
        "      x1 = self.c1_transitionblock(x1)\n",
        "      x1 = self.c1_convblock3(x1)\n",
        "      x1 = self.c1_convblock4(x1)\n",
        "      x1 = self.c1_fc(x1.view(x1.size(0), -1))\n",
        "      # Forward-Propagation on the second Critic Neural Network\n",
        "      x2 = self.c2_convblock1(xu)\n",
        "      x2 = self.c2_convblock2(x2)\n",
        "      x2 = self.c2_transitionblock(x2)\n",
        "      x2 = self.c2_convblock3(x2)\n",
        "      x2 = self.c2_convblock4(x2)\n",
        "      x2 = self.c2_fc(x2.view(x2.size(0), -1))\n",
        "      return x1, x2\n",
        "\n",
        "    def Q1(self, x, u):\n",
        "      xu = torch.cat([x, u], 2)\n",
        "      x1 = self.c1_convblock1(xu)\n",
        "      x1 = self.c1_convblock2(x1)\n",
        "      x1 = self.c1_transitionblock(x1)\n",
        "      x1 = self.c1_convblock3(x1)\n",
        "      x1 = self.c1_convblock4(x1)\n",
        "      x1 = self.c1_fc(x1.view(x1.size(0), -1))\n",
        "      return x1"
      ],
      "execution_count": 0,
      "outputs": []
    },
    {
      "cell_type": "code",
      "metadata": {
        "id": "HPFqU04lYoUM",
        "colab_type": "code",
        "colab": {
          "base_uri": "https://localhost:8080/",
          "height": 1000
        },
        "outputId": "206cfda1-0858-4da1-971d-e21a03bc3e2c"
      },
      "source": [
        "model = Critic((32,32),2).to(device)\n",
        "summary(model, input_size=[(1, 32, 32), (1,2,32)])"
      ],
      "execution_count": 73,
      "outputs": [
        {
          "output_type": "stream",
          "text": [
            "----------------------------------------------------------------\n",
            "        Layer (type)               Output Shape         Param #\n",
            "================================================================\n",
            "            Conv2d-1           [-1, 16, 32, 30]             160\n",
            "              ReLU-2           [-1, 16, 32, 30]               0\n",
            "       BatchNorm2d-3           [-1, 16, 32, 30]              32\n",
            "            Conv2d-4           [-1, 16, 30, 28]           2,320\n",
            "              ReLU-5           [-1, 16, 30, 28]               0\n",
            "       BatchNorm2d-6           [-1, 16, 30, 28]              32\n",
            "            Conv2d-7           [-1, 16, 28, 26]           2,320\n",
            "              ReLU-8           [-1, 16, 28, 26]               0\n",
            "       BatchNorm2d-9           [-1, 16, 28, 26]              32\n",
            "        Dropout2d-10           [-1, 16, 28, 26]               0\n",
            "           Conv2d-11           [-1, 10, 28, 26]             170\n",
            "             ReLU-12           [-1, 10, 28, 26]               0\n",
            "        MaxPool2d-13           [-1, 10, 14, 13]               0\n",
            "        Dropout2d-14           [-1, 10, 14, 13]               0\n",
            "      BatchNorm2d-15           [-1, 10, 14, 13]              20\n",
            "           Conv2d-16           [-1, 16, 12, 11]           1,456\n",
            "             ReLU-17           [-1, 16, 12, 11]               0\n",
            "      BatchNorm2d-18           [-1, 16, 12, 11]              32\n",
            "           Conv2d-19            [-1, 16, 10, 9]           2,320\n",
            "             ReLU-20            [-1, 16, 10, 9]               0\n",
            "      BatchNorm2d-21            [-1, 16, 10, 9]              32\n",
            "        Dropout2d-22            [-1, 16, 10, 9]               0\n",
            "           Conv2d-23            [-1, 10, 10, 9]             170\n",
            "             ReLU-24            [-1, 10, 10, 9]               0\n",
            "      BatchNorm2d-25            [-1, 10, 10, 9]              20\n",
            "           Linear-26                    [-1, 1]             901\n",
            "           Conv2d-27           [-1, 16, 32, 30]             160\n",
            "             ReLU-28           [-1, 16, 32, 30]               0\n",
            "      BatchNorm2d-29           [-1, 16, 32, 30]              32\n",
            "           Conv2d-30           [-1, 16, 30, 28]           2,320\n",
            "             ReLU-31           [-1, 16, 30, 28]               0\n",
            "      BatchNorm2d-32           [-1, 16, 30, 28]              32\n",
            "           Conv2d-33           [-1, 16, 28, 26]           2,320\n",
            "             ReLU-34           [-1, 16, 28, 26]               0\n",
            "      BatchNorm2d-35           [-1, 16, 28, 26]              32\n",
            "        Dropout2d-36           [-1, 16, 28, 26]               0\n",
            "           Conv2d-37           [-1, 10, 28, 26]             170\n",
            "             ReLU-38           [-1, 10, 28, 26]               0\n",
            "        MaxPool2d-39           [-1, 10, 14, 13]               0\n",
            "        Dropout2d-40           [-1, 10, 14, 13]               0\n",
            "      BatchNorm2d-41           [-1, 10, 14, 13]              20\n",
            "           Conv2d-42           [-1, 16, 12, 11]           1,456\n",
            "             ReLU-43           [-1, 16, 12, 11]               0\n",
            "      BatchNorm2d-44           [-1, 16, 12, 11]              32\n",
            "           Conv2d-45            [-1, 16, 10, 9]           2,320\n",
            "             ReLU-46            [-1, 16, 10, 9]               0\n",
            "      BatchNorm2d-47            [-1, 16, 10, 9]              32\n",
            "        Dropout2d-48            [-1, 16, 10, 9]               0\n",
            "           Conv2d-49            [-1, 10, 10, 9]             170\n",
            "             ReLU-50            [-1, 10, 10, 9]               0\n",
            "      BatchNorm2d-51            [-1, 10, 10, 9]              20\n",
            "           Linear-52                    [-1, 1]             901\n",
            "================================================================\n",
            "Total params: 20,034\n",
            "Trainable params: 20,034\n",
            "Non-trainable params: 0\n",
            "----------------------------------------------------------------\n",
            "Input size (MB): 0.25\n",
            "Forward/backward pass size (MB): 2.56\n",
            "Params size (MB): 0.08\n",
            "Estimated Total Size (MB): 2.89\n",
            "----------------------------------------------------------------\n"
          ],
          "name": "stdout"
        }
      ]
    },
    {
      "cell_type": "markdown",
      "metadata": {
        "colab_type": "text",
        "id": "NzIDuONodenW"
      },
      "source": [
        "## Steps 4 to 15: Training Process"
      ]
    },
    {
      "cell_type": "code",
      "metadata": {
        "colab_type": "code",
        "id": "zzd0H1xukdKe",
        "colab": {}
      },
      "source": [
        "# Building the whole Training Process into a class\n",
        "\n",
        "class TD3(object):\n",
        "  \n",
        "  def __init__(self, state_dim, action_dim, max_action):\n",
        "    self.max_action = torch.Tensor(max_action).to(device)\n",
        "    self.actor = Actor(state_dim, action_dim, self.max_action).to(device)\n",
        "    self.actor_target = Actor(state_dim, action_dim, self.max_action).to(device)\n",
        "    self.actor_target.load_state_dict(self.actor.state_dict())\n",
        "    self.actor_optimizer = torch.optim.Adam(self.actor.parameters())\n",
        "    self.critic = Critic(state_dim, action_dim).to(device)\n",
        "    self.critic_target = Critic(state_dim, action_dim).to(device)\n",
        "    self.critic_target.load_state_dict(self.critic.state_dict())\n",
        "    self.critic_optimizer = torch.optim.Adam(self.critic.parameters())\n",
        "    \n",
        "  def select_action(self, state):\n",
        "    #state = torch.Tensor(state.unsqueeze(0)).to(device)\n",
        "    state = state.unsqueeze(0)\n",
        "    return self.actor(state).cpu().data.numpy().flatten()\n",
        "\n",
        "  def expand_action(self, action, state_dim):\n",
        "    vel = torch.stack([action[:,0]]*state_dim)\n",
        "    vel = vel.T # (bsize,s_size)\n",
        "    vel = vel.unsqueeze(1).unsqueeze(1) # (bsize, 1, 1, s_size)\n",
        "\n",
        "    ang = torch.stack([action[:,1]]*state_dim)\n",
        "    ang = ang.T # (bsize,s_size)\n",
        "    ang = ang.unsqueeze(1).unsqueeze(1) # (bsize, 1, 1, s_size)\n",
        "\n",
        "    return torch.cat([vel,ang], 2)\n",
        "\n",
        "  def train(self, replay_buffer, iterations, batch_size=100, discount=0.99, tau=0.005, policy_noise=0.2, noise_clip=0.5, policy_freq=2):\n",
        "    \n",
        "    for it in range(iterations):\n",
        "      \n",
        "      # Step 4: We sample a batch of transitions (s, s’, a, r) from the memory\n",
        "      batch_states, batch_next_states, batch_actions, batch_rewards, batch_dones = replay_buffer.sample(batch_size)\n",
        "      state = torch.Tensor(batch_states).to(device)\n",
        "      next_state = torch.Tensor(batch_next_states).to(device)\n",
        "      action = torch.Tensor(batch_actions).to(device)\n",
        "      reward = torch.Tensor(batch_rewards).to(device)\n",
        "      done = torch.Tensor(batch_dones).to(device)\n",
        "      \n",
        "      # Step 5: From the next state s’, the Actor target plays the next action a’\n",
        "      next_action = self.actor_target(next_state).squeeze(1)\n",
        "\n",
        "      # Step 6: We add Gaussian noise to this next action a’ and we clamp it in a range of values supported by the environment\n",
        "      noise = torch.Tensor(batch_actions).data.normal_(0, policy_noise).to(device)\n",
        "      noise = noise.clamp(-noise_clip, noise_clip)\n",
        "      next_action[:, 0] = (next_action[:, 0] + noise[:, 0]).clamp(0, self.max_action[0])\n",
        "      next_action[:, 1] = (next_action[:, 1] + noise[:, 1]).clamp(-self.max_action[1], self.max_action[1])\n",
        "\n",
        "      # Step 6.1: Because we want to append action of dim=[batch_size,] to state of dim=[batch_size,1,32,32]\n",
        "      #           We expand action to this dim=[batch_size,1,1,32] and then concat it with state\n",
        "      next_action = self.expand_action(next_action, batch_states.shape[-1])\n",
        "      action = self.expand_action(action, batch_states.shape[-1])\n",
        "\n",
        "      # Step 7: The two Critic targets take each the couple (s’, a’) as input and return two Q-values Qt1(s’,a’) and Qt2(s’,a’) as outputs\n",
        "      target_Q1, target_Q2 = self.critic_target(next_state, next_action)\n",
        "      \n",
        "      # Step 8: We keep the minimum of these two Q-values: min(Qt1, Qt2)\n",
        "      target_Q = torch.min(target_Q1, target_Q2)\n",
        "      \n",
        "      # Step 9: We get the final target of the two Critic models, which is: Qt = r + γ * min(Qt1, Qt2), where γ is the discount factor\n",
        "      target_Q = reward + ((1 - done) * discount * target_Q).detach()\n",
        "      \n",
        "      # Step 10: The two Critic models take each the couple (s, a) as input and return two Q-values Q1(s,a) and Q2(s,a) as outputs\n",
        "      current_Q1, current_Q2 = self.critic(state, action)\n",
        "      \n",
        "      # Step 11: We compute the loss coming from the two Critic models: Critic Loss = MSE_Loss(Q1(s,a), Qt) + MSE_Loss(Q2(s,a), Qt)\n",
        "      critic_loss = F.mse_loss(current_Q1, target_Q) + F.mse_loss(current_Q2, target_Q)\n",
        "      \n",
        "      # Step 12: We backpropagate this Critic loss and update the parameters of the two Critic models with a SGD optimizer\n",
        "      self.critic_optimizer.zero_grad()\n",
        "      critic_loss.backward()\n",
        "      self.critic_optimizer.step()\n",
        "      \n",
        "      # Step 13: Once every two iterations, we update our Actor model by performing gradient ascent on the output of the first Critic model\n",
        "      if it % policy_freq == 0:\n",
        "        q1_action = self.actor(state)\n",
        "        q1_action = q1_action.squeeze(1)\n",
        "        q1_action = self.expand_action(q1_action, state.shape[-1])\n",
        "        actor_loss = -self.critic.Q1(state, q1_action).mean()\n",
        "        self.actor_optimizer.zero_grad()\n",
        "        actor_loss.backward()\n",
        "        self.actor_optimizer.step()\n",
        "        \n",
        "        # Step 14: Still once every two iterations, we update the weights of the Actor target by polyak averaging\n",
        "        for param, target_param in zip(self.actor.parameters(), self.actor_target.parameters()):\n",
        "          target_param.data.copy_(tau * param.data + (1 - tau) * target_param.data)\n",
        "        \n",
        "        # Step 15: Still once every two iterations, we update the weights of the Critic target by polyak averaging\n",
        "        for param, target_param in zip(self.critic.parameters(), self.critic_target.parameters()):\n",
        "          target_param.data.copy_(tau * param.data + (1 - tau) * target_param.data)\n",
        "  \n",
        "  # Making a save method to save a trained model\n",
        "  def save(self, filename, directory):\n",
        "    torch.save(self.actor.state_dict(), '%s/%s_actor.pth' % (directory, filename))\n",
        "    torch.save(self.critic.state_dict(), '%s/%s_critic.pth' % (directory, filename))\n",
        "  \n",
        "  # Making a load method to load a pre-trained model\n",
        "  def load(self, filename, directory):\n",
        "    self.actor.load_state_dict(torch.load('%s/%s_actor.pth' % (directory, filename)))\n",
        "    self.critic.load_state_dict(torch.load('%s/%s_critic.pth' % (directory, filename)))"
      ],
      "execution_count": 0,
      "outputs": []
    },
    {
      "cell_type": "markdown",
      "metadata": {
        "colab_type": "text",
        "id": "gGuKmH_ijf7U"
      },
      "source": [
        "## We set the parameters"
      ]
    },
    {
      "cell_type": "code",
      "metadata": {
        "colab_type": "code",
        "id": "HFj6wbAo97lk",
        "colab": {}
      },
      "source": [
        "env_name = \"AutoDrivingCarModels\" # Name of a environment (set it to any Continous environment you want)\n",
        "seed = 0 # Random seed number\n",
        "start_timesteps = 1e4 # Number of iterations/timesteps before which the model randomly chooses an action, and after which it starts to use the policy network\n",
        "eval_freq = 5e4 # How often the evaluation step is performed (after how many timesteps)\n",
        "max_timesteps = 5e5 # Total number of iterations/timesteps\n",
        "save_models = True # Boolean checker whether or not to save the pre-trained model\n",
        "expl_noise = 0.1 # Exploration noise - STD value of exploration Gaussian noise\n",
        "batch_size = 100 # Size of the batch\n",
        "discount = 0.99 # Discount factor gamma, used in the calculation of the total discounted reward\n",
        "tau = 0.005 # Target network update rate\n",
        "policy_noise = 0.2 # STD of Gaussian noise added to the actions for the exploration purposes\n",
        "noise_clip = 0.5 # Maximum value of the Gaussian noise added to the actions (policy)\n",
        "policy_freq = 2 # Number of iterations to wait before the policy network (Actor model) is updated"
      ],
      "execution_count": 0,
      "outputs": []
    },
    {
      "cell_type": "markdown",
      "metadata": {
        "colab_type": "text",
        "id": "Hjwf2HCol3XP"
      },
      "source": [
        "## We create a file name for the two saved models: the Actor and Critic models"
      ]
    },
    {
      "cell_type": "code",
      "metadata": {
        "colab_type": "code",
        "id": "1fyH8N5z-o3o",
        "outputId": "87661d64-9c9d-4329-d683-0e72771e463f",
        "colab": {
          "base_uri": "https://localhost:8080/",
          "height": 84
        }
      },
      "source": [
        "file_name = \"%s_%s_%s\" % (\"T3D\", env_name, str(seed))\n",
        "print (\"---------------------------------------\")\n",
        "print (\"Settings: %s\" % (file_name))\n",
        "print (\"---------------------------------------\")"
      ],
      "execution_count": 76,
      "outputs": [
        {
          "output_type": "stream",
          "text": [
            "---------------------------------------\n",
            "Settings: T3D_AutoDrivingCarModels_0\n",
            "---------------------------------------\n"
          ],
          "name": "stdout"
        }
      ]
    },
    {
      "cell_type": "markdown",
      "metadata": {
        "colab_type": "text",
        "id": "kop-C96Aml8O"
      },
      "source": [
        "## We create a folder inside which will be saved the trained models"
      ]
    },
    {
      "cell_type": "code",
      "metadata": {
        "colab_type": "code",
        "id": "Src07lvY-zXb",
        "colab": {}
      },
      "source": [
        "if not os.path.exists(\"./results\"):\n",
        "  os.makedirs(\"./results\")\n",
        "if save_models and not os.path.exists(\"./pytorch_models\"):\n",
        "  os.makedirs(\"./pytorch_models\")"
      ],
      "execution_count": 0,
      "outputs": []
    },
    {
      "cell_type": "markdown",
      "metadata": {
        "id": "LjXU4F5qV69_",
        "colab_type": "text"
      },
      "source": [
        "# Download Image"
      ]
    },
    {
      "cell_type": "code",
      "metadata": {
        "id": "bFxh7LT1V7Oe",
        "colab_type": "code",
        "colab": {}
      },
      "source": [
        "!wget -O MASK1.png https://drive.google.com/uc\\?export\\=view\\&id\\=1eHsgsEdvdUMZjSR5XUhA2kFgdPK3qSN3"
      ],
      "execution_count": 0,
      "outputs": []
    },
    {
      "cell_type": "code",
      "metadata": {
        "id": "cxN_v2aAppds",
        "colab_type": "code",
        "colab": {}
      },
      "source": [
        "%matplotlib inline\n",
        "\n",
        "from PIL import Image, ImageOps\n",
        "import matplotlib.markers as mmarkers\n",
        "\n",
        "def center_crop_img(img, x, y, crop_size):\n",
        "  max_x, max_y = img.size\n",
        "  pad_left, pad_right, pad_bottom, pad_top = 0, 0, 0, 0\n",
        "  start_x = x - int(crop_size/2)\n",
        "  start_y = y - int(crop_size/2)\n",
        "  end_x = x + int(crop_size/2)\n",
        "  end_y = y + int(crop_size/2)\n",
        "  if start_x < 0:\n",
        "      pad_left = -start_x\n",
        "      start_x = 0\n",
        "  if end_x >= max_x:\n",
        "      pad_right = end_x - max_x\n",
        "  if start_y < 0:\n",
        "      pad_top = -start_y\n",
        "      start_y = 0\n",
        "  if end_y >= max_y:\n",
        "      pad_bottom = end_y - max_y\n",
        "  padding = (int(pad_left), int(pad_top), int(pad_right), int(pad_bottom))\n",
        "  new_img = ImageOps.expand(img, padding, fill=255)\n",
        "  crop_img = new_img.crop((start_x, start_y, start_x+crop_size, start_y+crop_size))\n",
        "\n",
        "  return crop_img\n",
        "\n",
        "def rotate_img(img, angle):\n",
        "  im1 = img.convert('RGBA')\n",
        "  rot = im1.rotate(angle)\n",
        "  # a white image same size as rotated image\n",
        "  fff = Image.new('RGBA', rot.size, (255,)*4)\n",
        "  # create a composite image using the alpha layer of rot as a mask\n",
        "  return Image.composite(rot, fff, rot).convert('L')\n",
        "\n",
        "def show_img(ax, img, title=\"\"):\n",
        "  np_img = np.asarray(img)/255\n",
        "  np_img = np_img.astype(int)\n",
        "  ax.imshow(np_img, cmap='gray', vmin=0, vmax=1)\n",
        "  if title != \"\":\n",
        "    ax.set_title(title)"
      ],
      "execution_count": 0,
      "outputs": []
    },
    {
      "cell_type": "markdown",
      "metadata": {
        "colab_type": "text",
        "id": "qEAzOd47mv1Z"
      },
      "source": [
        "## We create the environment"
      ]
    },
    {
      "cell_type": "code",
      "metadata": {
        "id": "fFCJs2XJKzIb",
        "colab_type": "code",
        "colab": {}
      },
      "source": [
        "%matplotlib inline\n",
        "\n",
        "import torch\n",
        "import torch.nn as nn\n",
        "import torch.optim as optim\n",
        "import torch.nn.functional as F\n",
        "import torchvision.transforms as T\n",
        "\n",
        "import matplotlib.patches as patches\n",
        "import matplotlib.animation as animation\n",
        "import matplotlib.markers as mmarkers\n",
        "\n",
        "from PIL import Image as PILImage\n",
        "from kivy.vector import Vector\n",
        "\n",
        "class CarEnv(object):\n",
        "    def __init__(self):\n",
        "        img = PILImage.open(\"MASK1.png\").convert('L')\n",
        "        self.sand = np.asarray(img)/255\n",
        "        self.sand = self.sand.astype(int)\n",
        "        self.max_y, self.max_x = self.sand.shape\n",
        "        self.pos = Vector(int(self.max_x/2), int(self.max_y/2))\n",
        "        self.angle = Vector(0,10).angle(self.pos)\n",
        "        self.rel_pos = Vector(0,0)\n",
        "        self.max_angle = 10\n",
        "        self.min_velocity = 0.5\n",
        "        self.max_velocity = 10\n",
        "        self.max_action = [self.max_velocity, self.max_angle]\n",
        "        self.crop_size = 100\n",
        "        self.goal_iter = 0\n",
        "        self.goals = [Vector(1420, 38), Vector(9, 575)]\n",
        "        self.last_distance = 0\n",
        "        self.state_dim = (32, 32)\n",
        "        self.action_dim = (2,)\n",
        "        self._max_episode_steps = 2000\n",
        "      \n",
        "    def seed(self, seed):\n",
        "        pass\n",
        "    \n",
        "    def reset(self):\n",
        "        on_sand = True\n",
        "        while on_sand:\n",
        "          self.pos.x = np.random.randint(low=0, high=self.max_x-5)\n",
        "          self.pos.y = np.random.randint(low=0, high=self.max_y-5)\n",
        "          if self.sand[int(self.pos.y),int(self.pos.x)] <= 0:\n",
        "            on_sand = False\n",
        "        self.angle = Vector(0,10).angle(self.pos)\n",
        "        return self.get_state()\n",
        "    \n",
        "    def random_action(self):\n",
        "        vel = np.random.randint(low=self.min_velocity, high=self.max_velocity)\n",
        "        ang = np.random.randint(low=-self.max_angle, high=self.max_angle)\n",
        "        return (vel, ang)\n",
        "    \n",
        "    def step(self, action):\n",
        "        vel, ang = action\n",
        "        self.angle += ang\n",
        "        reward = 0\n",
        "        done = False\n",
        "        current_goal = self.goals[self.goal_iter]\n",
        "        distance = self.pos.distance(current_goal)\n",
        "        if self.sand[int(self.pos.y),int(self.pos.x)] > 0:\n",
        "            self.pos += Vector(vel, 0).rotate(self.angle)\n",
        "            reward = -1\n",
        "        else: # otherwise\n",
        "            self.pos += Vector(vel, 0).rotate(self.angle)\n",
        "            reward = -0.1\n",
        "            if distance < self.last_distance:\n",
        "                reward = 1\n",
        "        if self.pos.x < 5:\n",
        "            self.pos.x = 5\n",
        "            reward = -0.5\n",
        "            done = True\n",
        "        if self.pos.x > self.max_x - 5:\n",
        "            self.pos.x = self.max_x - 5\n",
        "            reward = -0.5\n",
        "        if self.pos.y < 5:\n",
        "            self.pos.y = 5\n",
        "            reward = -0.5\n",
        "            done = True\n",
        "        if self.pos.y > self.max_y - 5:\n",
        "            self.pos.y = self.max_y - 5\n",
        "            reward = -0.5\n",
        "            done = True\n",
        "        if distance < 25:\n",
        "            self.goal_iter = (self.goal_iter + 1) % len(self.goals)\n",
        "            goal = self.goals[self.goal_iter]\n",
        "            reward = 1\n",
        "            done = True\n",
        "        self.last_distance = distance\n",
        "        return self.get_state(), reward, done\n",
        "    \n",
        "    def render(self):\n",
        "        # Create figure and axes\n",
        "        fig, ax = plt.subplots(1, 5, figsize=(30, 6))\n",
        "\n",
        "        # Display the image\n",
        "        ax[0].imshow(self.sand, cmap='gray', vmin=0, vmax=1)\n",
        "        # Create a Rectangle patch\n",
        "        rect = patches.Rectangle(\n",
        "            (self.pos.x - int(self.crop_size/2), self.pos.y - int(self.crop_size/2)),\n",
        "            self.crop_size, self.crop_size,\n",
        "            linewidth=1, edgecolor='r', facecolor='none'\n",
        "        )\n",
        "        # Add the patch to the Axes\n",
        "        ax[0].add_patch(rect)\n",
        "        ax[0].set_title(\"x=%d,y=%d,angle=%d\" % (self.pos.x, self.pos.y, self.angle))\n",
        "        \n",
        "        marker = mmarkers.MarkerStyle(marker=\"$ \\\\rightarrow$\")\n",
        "        marker._transform = marker.get_transform().rotate_deg(self.angle)\n",
        "        ax[0].scatter(self.pos.x, self.pos.y, s=50, c='red', marker=marker)\n",
        "        self.get_state(ax).cpu().numpy()\n",
        "        plt.show()\n",
        "        \n",
        "    def get_state(self, ax=None):\n",
        "        resize = T.Compose([T.ToPILImage(),\n",
        "                            T.Resize(self.state_dim[0], interpolation=Image.CUBIC),\n",
        "                            T.ToTensor()])\n",
        "        \n",
        "        img = Image.open(\"MASK1.png\").convert('L')\n",
        "\n",
        "        crop_img = center_crop_img(img, self.pos.x, self.pos.y, self.crop_size*3)\n",
        "        if ax is not None:\n",
        "          show_img(ax[1], crop_img, \"large crop\")\n",
        "\n",
        "        r_img = rotate_img(crop_img, -self.angle)\n",
        "        if ax is not None:\n",
        "          show_img(ax[2], r_img, \"rotated crop\")\n",
        "\n",
        "        r_img_x, r_img_y = r_img.size\n",
        "        crop_img = center_crop_img(r_img, int(r_img_x/2), int(r_img_y/2), self.crop_size)\n",
        "        if ax is not None:\n",
        "          show_img(ax[3], crop_img, \"final crop\")\n",
        "\n",
        "        np_img = np.asarray(crop_img)/255\n",
        "        np_img = np_img.astype(int)\n",
        "        screen = np.ascontiguousarray(np_img, dtype=np.float32) \n",
        "        screen = torch.from_numpy(screen)\n",
        "        screen = resize(screen)\n",
        "        if ax is not None:\n",
        "            np_img = screen.squeeze(0).numpy()\n",
        "            np_img = np_img.astype(int)\n",
        "            ax[4].imshow(np_img, cmap='gray', vmin=0, vmax=1)\n",
        "            marker = mmarkers.MarkerStyle(marker=\"$ \\\\rightarrow$\")\n",
        "            ax[4].scatter(self.state_dim[0]/2, self.state_dim[1]/2, s=100, c='red', marker=marker)\n",
        "            ax[4].set_title(\"final resized img\")\n",
        "        return screen.to(device)"
      ],
      "execution_count": 0,
      "outputs": []
    },
    {
      "cell_type": "markdown",
      "metadata": {
        "id": "iIZ7-z_ARu7Y",
        "colab_type": "text"
      },
      "source": [
        "# Visualizing Environment\n",
        "\n",
        "Here we crop large portion of image from postion x,y. Then rotate it and then crop it again to required size. Then resize it to required final size"
      ]
    },
    {
      "cell_type": "code",
      "metadata": {
        "scrolled": false,
        "id": "VsSMlufaRYw3",
        "colab_type": "code",
        "colab": {
          "base_uri": "https://localhost:8080/",
          "height": 310
        },
        "outputId": "87d65fc8-9359-4826-9e16-f8fd2798472f"
      },
      "source": [
        "env = CarEnv()\n",
        "env.reset()\n",
        "env.render()"
      ],
      "execution_count": 105,
      "outputs": [
        {
          "output_type": "display_data",
          "data": {
            "image/png": "[encoded data removed]",
            "text/plain": [
              "<Figure size 2160x432 with 5 Axes>"
            ]
          },
          "metadata": {
            "tags": [],
            "needs_background": "light"
          }
        }
      ]
    },
    {
      "cell_type": "markdown",
      "metadata": {
        "id": "KvmcYjdZR-FW",
        "colab_type": "text"
      },
      "source": [
        "# Small animation to understand env.step"
      ]
    },
    {
      "cell_type": "code",
      "metadata": {
        "id": "YbXaXY1rRYw5",
        "colab_type": "code",
        "colab": {
          "base_uri": "https://localhost:8080/",
          "height": 270
        },
        "outputId": "aa6f10f2-66da-4122-a516-e4cab5dbc791"
      },
      "source": [
        "%matplotlib inline\n",
        "\n",
        "import numpy as np\n",
        "from matplotlib import pyplot as plt\n",
        "from IPython.display import clear_output\n",
        "from time import sleep\n",
        "\n",
        "plt.figure()\n",
        "env = CarEnv()\n",
        "env.reset()\n",
        "for i in range(20):\n",
        "    img = env.get_state().cpu().squeeze(0).numpy()\n",
        "    plt.imshow(img, cmap='gray', animated=True, vmin=0, vmax=1)\n",
        "    plt.show()\n",
        "    sleep(0.2)\n",
        "    clear_output(wait=True)\n",
        "    vel = np.random.randint(low=0.5, high=5)\n",
        "    angle = np.random.randint(low=-10, high=+10)\n",
        "    env.step((vel, angle))\n"
      ],
      "execution_count": 95,
      "outputs": [
        {
          "output_type": "display_data",
          "data": {
            "image/png": "[encoded data removed]",
            "text/plain": [
              "<Figure size 432x288 with 1 Axes>"
            ]
          },
          "metadata": {
            "tags": [],
            "needs_background": "light"
          }
        }
      ]
    },
    {
      "cell_type": "markdown",
      "metadata": {
        "colab_type": "text",
        "id": "5YdPG4HXnNsh"
      },
      "source": [
        "## We set seeds and we get the necessary information on the states and actions in the chosen environment"
      ]
    },
    {
      "cell_type": "code",
      "metadata": {
        "colab_type": "code",
        "id": "Z3RufYec_ADj",
        "colab": {}
      },
      "source": [
        "env.seed(seed)\n",
        "torch.manual_seed(seed)\n",
        "np.random.seed(seed)\n",
        "state_dim = env.state_dim\n",
        "action_dim = env.action_dim[0]\n",
        "max_action = env.max_action"
      ],
      "execution_count": 0,
      "outputs": []
    },
    {
      "cell_type": "markdown",
      "metadata": {
        "colab_type": "text",
        "id": "wBtZC0LgjYs9"
      },
      "source": [
        "# Understanding Environment\n",
        "\n",
        "* Action Space:\n",
        "  - Action Space is of 2 dims. With first value (velocity) ranging from 0.5 to 10. And second value (angle) ranging from -10 to +10\n"
      ]
    },
    {
      "cell_type": "markdown",
      "metadata": {
        "colab_type": "text",
        "id": "HWEgDAQxnbem"
      },
      "source": [
        "## We create the policy network (the Actor model)"
      ]
    },
    {
      "cell_type": "code",
      "metadata": {
        "colab_type": "code",
        "id": "wTVvG7F8_EWg",
        "colab": {}
      },
      "source": [
        "policy = TD3(state_dim, action_dim, max_action)"
      ],
      "execution_count": 0,
      "outputs": []
    },
    {
      "cell_type": "markdown",
      "metadata": {
        "colab_type": "text",
        "id": "ZI60VN2Unklh"
      },
      "source": [
        "[link text](https://)## We create the Experience Replay memory"
      ]
    },
    {
      "cell_type": "code",
      "metadata": {
        "colab_type": "code",
        "id": "sd-ZsdXR_LgV",
        "colab": {}
      },
      "source": [
        "replay_buffer = ReplayBuffer()"
      ],
      "execution_count": 0,
      "outputs": []
    },
    {
      "cell_type": "markdown",
      "metadata": {
        "colab_type": "text",
        "id": "ka-ZRtQvjBex"
      },
      "source": [
        "## We make a function that evaluates the policy by calculating its average reward over 10 episodes"
      ]
    },
    {
      "cell_type": "code",
      "metadata": {
        "id": "OwS4ffh4VKUN",
        "colab_type": "code",
        "colab": {
          "base_uri": "https://localhost:8080/",
          "height": 40
        },
        "outputId": "30f82b31-d457-4f56-d059-120d471dffb8"
      },
      "source": [
        "obs = env.reset()\n",
        "action = policy.select_action(obs)\n",
        "new_obs, reward, done,  = env.step(action)\n",
        "print(obs.shape, new_obs.shape, action, reward, done)"
      ],
      "execution_count": 109,
      "outputs": [
        {
          "output_type": "stream",
          "text": [
            "(torch.Size([1, 32, 32]), torch.Size([1, 32, 32]), array([1.8616898, 1.95614  ], dtype=float32), -0.1, False)\n"
          ],
          "name": "stdout"
        }
      ]
    },
    {
      "cell_type": "code",
      "metadata": {
        "colab_type": "code",
        "id": "qabqiYdp9wDM",
        "colab": {}
      },
      "source": [
        "def evaluate_policy(policy, eval_episodes=10):\n",
        "  avg_reward = 0.\n",
        "  for _ in range(eval_episodes):\n",
        "    obs = env.reset()\n",
        "    done = False\n",
        "    episode_timesteps = 0\n",
        "    while not done:\n",
        "      action = policy.select_action(obs)\n",
        "      obs, reward, done = env.step(action)\n",
        "      episode_timesteps += 1\n",
        "      avg_reward += reward\n",
        "      if episode_timesteps + 1 == env._max_episode_steps:\n",
        "        done = True\n",
        "\n",
        "  avg_reward /= eval_episodes\n",
        "  print (\"---------------------------------------\")\n",
        "  print (\"Average Reward over the Evaluation Step: %f\" % (avg_reward))\n",
        "  print (\"---------------------------------------\")\n",
        "  return avg_reward"
      ],
      "execution_count": 0,
      "outputs": []
    },
    {
      "cell_type": "markdown",
      "metadata": {
        "colab_type": "text",
        "id": "QYOpCyiDnw7s"
      },
      "source": [
        "## We define a list where all the evaluation results over 10 episodes are stored"
      ]
    },
    {
      "cell_type": "code",
      "metadata": {
        "colab_type": "code",
        "id": "dhC_5XJ__Orp",
        "colab": {}
      },
      "source": [
        "evaluations = [] # evaluate_policy(policy, eval_episodes=1)]"
      ],
      "execution_count": 0,
      "outputs": []
    },
    {
      "cell_type": "markdown",
      "metadata": {
        "colab_type": "text",
        "id": "xm-4b3p6rglE"
      },
      "source": [
        "## We create a new folder directory in which the final results (videos of the agent) will be populated"
      ]
    },
    {
      "cell_type": "code",
      "metadata": {
        "colab_type": "code",
        "id": "MTL9uMd0ru03",
        "colab": {}
      },
      "source": [
        "def mkdir(base, name):\n",
        "    path = os.path.join(base, name)\n",
        "    if not os.path.exists(path):\n",
        "        os.makedirs(path)\n",
        "    return path\n",
        "work_dir = mkdir('exp', 'brs')\n",
        "monitor_dir = mkdir(work_dir, 'monitor')\n",
        "max_episode_steps = env._max_episode_steps\n",
        "save_env_vid = False\n",
        "if save_env_vid:\n",
        "  env = wrappers.Monitor(env, monitor_dir, force = True)\n",
        "  env.reset()"
      ],
      "execution_count": 0,
      "outputs": []
    },
    {
      "cell_type": "markdown",
      "metadata": {
        "colab_type": "text",
        "id": "31n5eb03p-Fm"
      },
      "source": [
        "## We initialize the variables"
      ]
    },
    {
      "cell_type": "code",
      "metadata": {
        "colab_type": "code",
        "id": "1vN5EvxK_QhT",
        "colab": {}
      },
      "source": [
        "total_timesteps = 0\n",
        "timesteps_since_eval = 0\n",
        "episode_num = 0\n",
        "done = True\n",
        "t0 = time.time()"
      ],
      "execution_count": 0,
      "outputs": []
    },
    {
      "cell_type": "markdown",
      "metadata": {
        "colab_type": "text",
        "id": "q9gsjvtPqLgT"
      },
      "source": [
        "## Training"
      ]
    },
    {
      "cell_type": "code",
      "metadata": {
        "id": "rPn31gvhKSAp",
        "colab_type": "code",
        "colab": {
          "base_uri": "https://localhost:8080/",
          "height": 1000
        },
        "outputId": "413eeb89-7f08-49b8-f11d-a954cf0a38c5"
      },
      "source": [
        "import time\n",
        "\n",
        "max_timesteps = 500000\n",
        "start_time = time.time()\n",
        "# We start the main loop over 500,000 timesteps\n",
        "while total_timesteps < max_timesteps:\n",
        "  \n",
        "  # If the episode is done\n",
        "  if done:\n",
        "\n",
        "    # If we are not at the very beginning, we start the training process of the model\n",
        "    if total_timesteps != 0:\n",
        "      print(\"Total Timesteps: {} Episode Num: {} Episode Len: {} Reward: {} Time Taken: {} secs\".format(\n",
        "              total_timesteps, episode_num, episode_timesteps,\n",
        "              episode_reward, time.time() - start_time))\n",
        "      policy.train(replay_buffer, episode_timesteps, batch_size, discount, tau, policy_noise, noise_clip, policy_freq)\n",
        "      start_time = time.time()\n",
        "\n",
        "    # We evaluate the episode and we save the policy\n",
        "    if timesteps_since_eval >= eval_freq:\n",
        "      timesteps_since_eval %= eval_freq\n",
        "      evaluations.append(evaluate_policy(policy))\n",
        "      policy.save(file_name, directory=\"./pytorch_models\")\n",
        "      np.save(\"./results/%s\" % (file_name), evaluations)\n",
        "      start_time = time.time()\n",
        "    \n",
        "    # When the training step is done, we reset the state of the environment\n",
        "    obs = env.reset()\n",
        "    \n",
        "    # Set the Done to False\n",
        "    done = False\n",
        "    \n",
        "    # Set rewards and episode timesteps to zero\n",
        "    episode_reward = 0\n",
        "    episode_timesteps = 0\n",
        "    episode_num += 1\n",
        "  \n",
        "  # Before 10000 timesteps, we play random actions\n",
        "  if total_timesteps < start_timesteps:\n",
        "    action = env.random_action()\n",
        "  else: # After 10000 timesteps, we switch to the model\n",
        "    action = policy.select_action(obs)\n",
        "    # If the explore_noise parameter is not 0, we add noise to the action and we clip it\n",
        "    if expl_noise != 0:\n",
        "      action = (action + np.random.normal(0, expl_noise, size=env.action_dim)).clip(-env.max_angle, env.max_angle)\n",
        "  \n",
        "  # The agent performs the action in the environment, then reaches the next state and receives the reward\n",
        "  new_obs, reward, done = env.step(action)\n",
        "\n",
        "  \n",
        "  # We check if the episode is done\n",
        "  #done_bool = 0 if episode_timesteps + 1 == env._max_episode_steps else float(done)\n",
        "  if episode_timesteps + 1 == env._max_episode_steps: done = True\n",
        "  done_bool = float(done)\n",
        "  \n",
        "  # We increase the total reward\n",
        "  episode_reward += reward\n",
        "  # We store the new transition into the Experience Replay memory (ReplayBuffer)\n",
        "  replay_buffer.add((obs.cpu(), new_obs.cpu(), action, reward, done_bool))\n",
        "\n",
        "  # We update the state, the episode timestep, the total timesteps, and the timesteps since the evaluation of the policy\n",
        "  obs = new_obs\n",
        "  episode_timesteps += 1\n",
        "  total_timesteps += 1\n",
        "  timesteps_since_eval += 1\n",
        "\n",
        "# We add the last policy evaluation to our list of evaluations and we save our model\n",
        "evaluations.append(evaluate_policy(policy))\n",
        "if save_models: policy.save(\"%s\" % (file_name), directory=\"./pytorch_models\")\n",
        "np.save(\"./results/%s\" % (file_name), evaluations)"
      ],
      "execution_count": 0,
      "outputs": [
        {
          "output_type": "stream",
          "text": [
            "Total Timesteps: 210 Episode Num: 1 Episode Len: 210 Reward: -153.3 Time Taken: 3.30522799492 secs\n",
            "Total Timesteps: 387 Episode Num: 2 Episode Len: 177 Reward: -119.3 Time Taken: 2.74998497963 secs\n",
            "Total Timesteps: 660 Episode Num: 3 Episode Len: 273 Reward: -180.4 Time Taken: 4.24683499336 secs\n",
            "Total Timesteps: 719 Episode Num: 4 Episode Len: 59 Reward: 27.8 Time Taken: 0.939138889313 secs\n",
            "Total Timesteps: 740 Episode Num: 5 Episode Len: 21 Reward: -7.6 Time Taken: 0.344402074814 secs\n",
            "Total Timesteps: 857 Episode Num: 6 Episode Len: 117 Reward: -93.8 Time Taken: 1.83670687675 secs\n",
            "Total Timesteps: 1377 Episode Num: 7 Episode Len: 520 Reward: -388.7 Time Taken: 8.06953501701 secs\n",
            "Total Timesteps: 1379 Episode Num: 8 Episode Len: 2 Reward: 0.5 Time Taken: 0.0470719337463 secs\n",
            "Total Timesteps: 1430 Episode Num: 9 Episode Len: 51 Reward: -33.6 Time Taken: 0.810391902924 secs\n",
            "Total Timesteps: 1517 Episode Num: 10 Episode Len: 87 Reward: -76.7 Time Taken: 1.37070083618 secs\n",
            "Total Timesteps: 1543 Episode Num: 11 Episode Len: 26 Reward: -23.5 Time Taken: 0.421019077301 secs\n",
            "Total Timesteps: 1795 Episode Num: 12 Episode Len: 252 Reward: -161.1 Time Taken: 3.93288016319 secs\n",
            "Total Timesteps: 1945 Episode Num: 13 Episode Len: 150 Reward: -103.2 Time Taken: 2.39067196846 secs\n",
            "Total Timesteps: 2107 Episode Num: 14 Episode Len: 162 Reward: -82.3 Time Taken: 2.56941485405 secs\n",
            "Total Timesteps: 2488 Episode Num: 15 Episode Len: 381 Reward: -266.4 Time Taken: 5.91760706902 secs\n",
            "Total Timesteps: 2744 Episode Num: 16 Episode Len: 256 Reward: -139.3 Time Taken: 3.9809179306 secs\n",
            "Total Timesteps: 2848 Episode Num: 17 Episode Len: 104 Reward: -87.0 Time Taken: 1.61975193024 secs\n",
            "Total Timesteps: 3306 Episode Num: 18 Episode Len: 458 Reward: -266.9 Time Taken: 7.10705900192 secs\n",
            "Total Timesteps: 3316 Episode Num: 19 Episode Len: 10 Reward: -5.0 Time Taken: 0.172660112381 secs\n",
            "Total Timesteps: 3695 Episode Num: 20 Episode Len: 379 Reward: -261.3 Time Taken: 5.90337705612 secs\n",
            "Total Timesteps: 4252 Episode Num: 21 Episode Len: 557 Reward: -291.6 Time Taken: 8.72871780396 secs\n",
            "Total Timesteps: 4465 Episode Num: 22 Episode Len: 213 Reward: -150.8 Time Taken: 3.30461621284 secs\n",
            "Total Timesteps: 4612 Episode Num: 23 Episode Len: 147 Reward: -108.8 Time Taken: 2.3113079071 secs\n",
            "Total Timesteps: 5233 Episode Num: 24 Episode Len: 621 Reward: -323.9 Time Taken: 9.66292715073 secs\n",
            "Total Timesteps: 5928 Episode Num: 25 Episode Len: 695 Reward: -487.0 Time Taken: 10.8593950272 secs\n",
            "Total Timesteps: 6100 Episode Num: 26 Episode Len: 172 Reward: -64.0 Time Taken: 2.67681789398 secs\n",
            "Total Timesteps: 6214 Episode Num: 27 Episode Len: 114 Reward: 0.7 Time Taken: 1.77361893654 secs\n",
            "Total Timesteps: 6232 Episode Num: 28 Episode Len: 18 Reward: -1.1 Time Taken: 0.299522161484 secs\n",
            "Total Timesteps: 6302 Episode Num: 29 Episode Len: 70 Reward: -32.9 Time Taken: 1.10510802269 secs\n",
            "Total Timesteps: 6303 Episode Num: 30 Episode Len: 1 Reward: -0.5 Time Taken: 0.032054901123 secs\n",
            "Total Timesteps: 6508 Episode Num: 31 Episode Len: 205 Reward: -113.4 Time Taken: 3.21069097519 secs\n",
            "Total Timesteps: 6658 Episode Num: 32 Episode Len: 150 Reward: -133.0 Time Taken: 2.34928703308 secs\n",
            "Total Timesteps: 6684 Episode Num: 33 Episode Len: 26 Reward: -19.0 Time Taken: 0.418757915497 secs\n",
            "Total Timesteps: 6806 Episode Num: 34 Episode Len: 122 Reward: -84.9 Time Taken: 1.91256594658 secs\n",
            "Total Timesteps: 6988 Episode Num: 35 Episode Len: 182 Reward: -153.9 Time Taken: 2.88042902946 secs\n",
            "Total Timesteps: 7045 Episode Num: 36 Episode Len: 57 Reward: -34.7 Time Taken: 0.908524036407 secs\n",
            "Total Timesteps: 7351 Episode Num: 37 Episode Len: 306 Reward: -164.5 Time Taken: 4.76335406303 secs\n",
            "Total Timesteps: 7403 Episode Num: 38 Episode Len: 52 Reward: -45.0 Time Taken: 0.834787845612 secs\n",
            "Total Timesteps: 7613 Episode Num: 39 Episode Len: 210 Reward: -129.5 Time Taken: 3.28935289383 secs\n",
            "Total Timesteps: 7779 Episode Num: 40 Episode Len: 166 Reward: -104.8 Time Taken: 2.59463596344 secs\n",
            "Total Timesteps: 7983 Episode Num: 41 Episode Len: 204 Reward: -135.7 Time Taken: 3.1660091877 secs\n",
            "Total Timesteps: 8045 Episode Num: 42 Episode Len: 62 Reward: -51.4 Time Taken: 0.990561008453 secs\n",
            "Total Timesteps: 8198 Episode Num: 43 Episode Len: 153 Reward: -99.1 Time Taken: 2.38804888725 secs\n",
            "Total Timesteps: 8650 Episode Num: 44 Episode Len: 452 Reward: -346.0 Time Taken: 7.05100607872 secs\n",
            "Total Timesteps: 8761 Episode Num: 45 Episode Len: 111 Reward: -69.5 Time Taken: 1.73690009117 secs\n",
            "Total Timesteps: 8778 Episode Num: 46 Episode Len: 17 Reward: -5.5 Time Taken: 0.282383918762 secs\n",
            "Total Timesteps: 8885 Episode Num: 47 Episode Len: 107 Reward: -52.0 Time Taken: 1.67146897316 secs\n",
            "Total Timesteps: 8899 Episode Num: 48 Episode Len: 14 Reward: -0.7 Time Taken: 0.234320878983 secs\n",
            "Total Timesteps: 8946 Episode Num: 49 Episode Len: 47 Reward: -26.5 Time Taken: 0.741989135742 secs\n",
            "Total Timesteps: 8947 Episode Num: 50 Episode Len: 1 Reward: -0.5 Time Taken: 0.0318660736084 secs\n",
            "Total Timesteps: 9100 Episode Num: 51 Episode Len: 153 Reward: -80.4 Time Taken: 2.38035607338 secs\n",
            "Total Timesteps: 9179 Episode Num: 52 Episode Len: 79 Reward: -68.6 Time Taken: 1.27980589867 secs\n",
            "Total Timesteps: 9439 Episode Num: 53 Episode Len: 260 Reward: -145.4 Time Taken: 4.07297301292 secs\n",
            "Total Timesteps: 10381 Episode Num: 54 Episode Len: 942 Reward: -492.4 Time Taken: 15.3922629356 secs\n",
            "Total Timesteps: 10707 Episode Num: 55 Episode Len: 326 Reward: -139.5 Time Taken: 5.68475818634 secs\n",
            "Total Timesteps: 12707 Episode Num: 56 Episode Len: 2000 Reward: -1764.3 Time Taken: 35.0193519592 secs\n",
            "Total Timesteps: 12799 Episode Num: 57 Episode Len: 92 Reward: -28.8 Time Taken: 1.62563896179 secs\n",
            "Total Timesteps: 14799 Episode Num: 58 Episode Len: 2000 Reward: -1893.0 Time Taken: 34.7906699181 secs\n",
            "Total Timesteps: 16799 Episode Num: 59 Episode Len: 2000 Reward: -1581.2 Time Taken: 34.768643856 secs\n",
            "Total Timesteps: 16849 Episode Num: 60 Episode Len: 50 Reward: -2.7 Time Taken: 0.894969940186 secs\n",
            "Total Timesteps: 18849 Episode Num: 61 Episode Len: 2000 Reward: -1835.7 Time Taken: 35.0181000233 secs\n",
            "Total Timesteps: 20849 Episode Num: 62 Episode Len: 2000 Reward: -1329.6 Time Taken: 34.8393959999 secs\n",
            "Total Timesteps: 22849 Episode Num: 63 Episode Len: 2000 Reward: -1831.2 Time Taken: 34.9446258545 secs\n",
            "Total Timesteps: 24849 Episode Num: 64 Episode Len: 2000 Reward: -343.9 Time Taken: 34.8063728809 secs\n",
            "Total Timesteps: 24850 Episode Num: 65 Episode Len: 1 Reward: 1 Time Taken: 0.034511089325 secs\n",
            "Total Timesteps: 26850 Episode Num: 66 Episode Len: 2000 Reward: -602.9 Time Taken: 34.8760159016 secs\n",
            "Total Timesteps: 27256 Episode Num: 67 Episode Len: 406 Reward: -234.8 Time Taken: 7.11343288422 secs\n",
            "Total Timesteps: 29256 Episode Num: 68 Episode Len: 2000 Reward: -734.8 Time Taken: 34.9231119156 secs\n",
            "Total Timesteps: 31256 Episode Num: 69 Episode Len: 2000 Reward: -1004.7 Time Taken: 34.9711060524 secs\n",
            "Total Timesteps: 33256 Episode Num: 70 Episode Len: 2000 Reward: 394.0 Time Taken: 34.9560220242 secs\n",
            "Total Timesteps: 33789 Episode Num: 71 Episode Len: 533 Reward: -211.3 Time Taken: 9.25232696533 secs\n",
            "Total Timesteps: 35789 Episode Num: 72 Episode Len: 2000 Reward: 208.4 Time Taken: 34.775468111 secs\n",
            "Total Timesteps: 37789 Episode Num: 73 Episode Len: 2000 Reward: -1885.5 Time Taken: 35.725041151 secs\n",
            "Total Timesteps: 39789 Episode Num: 74 Episode Len: 2000 Reward: 393.4 Time Taken: 35.1816401482 secs\n",
            "Total Timesteps: 41789 Episode Num: 75 Episode Len: 2000 Reward: -1391.3 Time Taken: 35.4287610054 secs\n",
            "Total Timesteps: 43789 Episode Num: 76 Episode Len: 2000 Reward: -1098.8 Time Taken: 35.3982651234 secs\n",
            "Total Timesteps: 45789 Episode Num: 77 Episode Len: 2000 Reward: 347.3 Time Taken: 35.4174749851 secs\n",
            "Total Timesteps: 47789 Episode Num: 78 Episode Len: 2000 Reward: 550.2 Time Taken: 35.1701221466 secs\n",
            "Total Timesteps: 49789 Episode Num: 79 Episode Len: 2000 Reward: 658.0 Time Taken: 35.0597171783 secs\n",
            "Total Timesteps: 51789 Episode Num: 80 Episode Len: 2000 Reward: 808.7 Time Taken: 35.1210489273 secs\n",
            "---------------------------------------\n",
            "Average Reward over the Evaluation Step: 612.220000\n",
            "---------------------------------------\n",
            "Total Timesteps: 53789 Episode Num: 81 Episode Len: 2000 Reward: -1973.6 Time Taken: 35.5224411488 secs\n",
            "Total Timesteps: 55789 Episode Num: 82 Episode Len: 2000 Reward: 806.9 Time Taken: 35.4615468979 secs\n",
            "Total Timesteps: 57789 Episode Num: 83 Episode Len: 2000 Reward: 38.2 Time Taken: 35.3574960232 secs\n",
            "Total Timesteps: 59789 Episode Num: 84 Episode Len: 2000 Reward: 938.8 Time Taken: 35.2638869286 secs\n",
            "Total Timesteps: 61789 Episode Num: 85 Episode Len: 2000 Reward: -457.2 Time Taken: 35.2076570988 secs\n",
            "Total Timesteps: 63789 Episode Num: 86 Episode Len: 2000 Reward: -1919.4 Time Taken: 35.0241310596 secs\n",
            "Total Timesteps: 65789 Episode Num: 87 Episode Len: 2000 Reward: -1743.5 Time Taken: 35.2995259762 secs\n",
            "Total Timesteps: 67789 Episode Num: 88 Episode Len: 2000 Reward: 550.9 Time Taken: 35.3267068863 secs\n",
            "Total Timesteps: 67794 Episode Num: 89 Episode Len: 5 Reward: 0.2 Time Taken: 0.108824014664 secs\n",
            "Total Timesteps: 69794 Episode Num: 90 Episode Len: 2000 Reward: -1999.1 Time Taken: 35.2075300217 secs\n",
            "Total Timesteps: 71794 Episode Num: 91 Episode Len: 2000 Reward: -369.3 Time Taken: 35.2417089939 secs\n",
            "Total Timesteps: 73794 Episode Num: 92 Episode Len: 2000 Reward: 953.9 Time Taken: 35.0754179955 secs\n",
            "Total Timesteps: 75794 Episode Num: 93 Episode Len: 2000 Reward: -1901.7 Time Taken: 35.0114109516 secs\n",
            "Total Timesteps: 77794 Episode Num: 94 Episode Len: 2000 Reward: -1723.2 Time Taken: 34.9818890095 secs\n",
            "Total Timesteps: 79794 Episode Num: 95 Episode Len: 2000 Reward: -413.9 Time Taken: 35.0345659256 secs\n",
            "Total Timesteps: 81794 Episode Num: 96 Episode Len: 2000 Reward: 945.1 Time Taken: 35.1678471565 secs\n",
            "Total Timesteps: 83794 Episode Num: 97 Episode Len: 2000 Reward: 872.6 Time Taken: 35.2047579288 secs\n",
            "Total Timesteps: 85794 Episode Num: 98 Episode Len: 2000 Reward: 973.7 Time Taken: 35.3520579338 secs\n",
            "Total Timesteps: 87794 Episode Num: 99 Episode Len: 2000 Reward: -1256.0 Time Taken: 35.1274299622 secs\n",
            "Total Timesteps: 89794 Episode Num: 100 Episode Len: 2000 Reward: 930.8 Time Taken: 35.2958798409 secs\n",
            "Total Timesteps: 91794 Episode Num: 101 Episode Len: 2000 Reward: -160.8 Time Taken: 35.7917220592 secs\n",
            "Total Timesteps: 93794 Episode Num: 102 Episode Len: 2000 Reward: -1996.2 Time Taken: 35.562125206 secs\n",
            "Total Timesteps: 95794 Episode Num: 103 Episode Len: 2000 Reward: -1958.8 Time Taken: 35.4953808784 secs\n",
            "Total Timesteps: 97794 Episode Num: 104 Episode Len: 2000 Reward: -1766.8 Time Taken: 35.568459034 secs\n",
            "Total Timesteps: 99794 Episode Num: 105 Episode Len: 2000 Reward: -1820.6 Time Taken: 35.143089056 secs\n",
            "Total Timesteps: 101794 Episode Num: 106 Episode Len: 2000 Reward: 740.1 Time Taken: 35.1965742111 secs\n",
            "---------------------------------------\n",
            "Average Reward over the Evaluation Step: -652.970000\n",
            "---------------------------------------\n",
            "Total Timesteps: 103794 Episode Num: 107 Episode Len: 2000 Reward: -298.2 Time Taken: 35.6166319847 secs\n",
            "Total Timesteps: 105794 Episode Num: 108 Episode Len: 2000 Reward: 519.3 Time Taken: 35.4916489124 secs\n",
            "Total Timesteps: 105795 Episode Num: 109 Episode Len: 1 Reward: 1 Time Taken: 0.0340251922607 secs\n",
            "Total Timesteps: 107795 Episode Num: 110 Episode Len: 2000 Reward: 769.3 Time Taken: 35.6359448433 secs\n",
            "Total Timesteps: 109795 Episode Num: 111 Episode Len: 2000 Reward: -1300.8 Time Taken: 35.5531051159 secs\n",
            "Total Timesteps: 111795 Episode Num: 112 Episode Len: 2000 Reward: -886.9 Time Taken: 35.7091419697 secs\n",
            "Total Timesteps: 113795 Episode Num: 113 Episode Len: 2000 Reward: -1950.2 Time Taken: 36.09988904 secs\n",
            "Total Timesteps: 115795 Episode Num: 114 Episode Len: 2000 Reward: 923.3 Time Taken: 38.6464960575 secs\n",
            "Total Timesteps: 117795 Episode Num: 115 Episode Len: 2000 Reward: -216.2 Time Taken: 37.7445240021 secs\n",
            "Total Timesteps: 119795 Episode Num: 116 Episode Len: 2000 Reward: -1050.8 Time Taken: 37.9416821003 secs\n",
            "Total Timesteps: 121795 Episode Num: 117 Episode Len: 2000 Reward: 259.1 Time Taken: 37.5056598186 secs\n",
            "Total Timesteps: 123795 Episode Num: 118 Episode Len: 2000 Reward: 217.9 Time Taken: 37.4348428249 secs\n",
            "Total Timesteps: 125795 Episode Num: 119 Episode Len: 2000 Reward: 694.5 Time Taken: 37.3076541424 secs\n",
            "Total Timesteps: 127795 Episode Num: 120 Episode Len: 2000 Reward: 918.7 Time Taken: 36.3414747715 secs\n",
            "Total Timesteps: 129795 Episode Num: 121 Episode Len: 2000 Reward: 846.1 Time Taken: 36.3280279636 secs\n",
            "Total Timesteps: 131795 Episode Num: 122 Episode Len: 2000 Reward: 735.1 Time Taken: 35.4809470177 secs\n",
            "Total Timesteps: 133795 Episode Num: 123 Episode Len: 2000 Reward: -1910.9 Time Taken: 37.539525032 secs\n",
            "Total Timesteps: 133852 Episode Num: 124 Episode Len: 57 Reward: -48.2 Time Taken: 1.07697200775 secs\n",
            "Total Timesteps: 135852 Episode Num: 125 Episode Len: 2000 Reward: 985.8 Time Taken: 36.8260469437 secs\n",
            "Total Timesteps: 137852 Episode Num: 126 Episode Len: 2000 Reward: 868.1 Time Taken: 36.5504720211 secs\n",
            "Total Timesteps: 139852 Episode Num: 127 Episode Len: 2000 Reward: -921.4 Time Taken: 36.525113821 secs\n",
            "Total Timesteps: 141852 Episode Num: 128 Episode Len: 2000 Reward: -1971.9 Time Taken: 36.5587308407 secs\n",
            "Total Timesteps: 141855 Episode Num: 129 Episode Len: 3 Reward: 0.4 Time Taken: 0.0709178447723 secs\n",
            "Total Timesteps: 143855 Episode Num: 130 Episode Len: 2000 Reward: 481.9 Time Taken: 36.7898390293 secs\n",
            "Total Timesteps: 145855 Episode Num: 131 Episode Len: 2000 Reward: -1847.1 Time Taken: 36.7560110092 secs\n",
            "Total Timesteps: 147855 Episode Num: 132 Episode Len: 2000 Reward: 177.6 Time Taken: 36.9907929897 secs\n",
            "Total Timesteps: 148509 Episode Num: 133 Episode Len: 654 Reward: 288.4 Time Taken: 12.0392351151 secs\n",
            "Total Timesteps: 150509 Episode Num: 134 Episode Len: 2000 Reward: -1833.5 Time Taken: 36.9359281063 secs\n",
            "---------------------------------------\n",
            "Average Reward over the Evaluation Step: -440.710000\n",
            "---------------------------------------\n",
            "Total Timesteps: 152509 Episode Num: 135 Episode Len: 2000 Reward: -887.6 Time Taken: 37.343380928 secs\n",
            "Total Timesteps: 154509 Episode Num: 136 Episode Len: 2000 Reward: 644.1 Time Taken: 37.4404788017 secs\n",
            "Total Timesteps: 156509 Episode Num: 137 Episode Len: 2000 Reward: 1027.6 Time Taken: 37.3972899914 secs\n",
            "Total Timesteps: 158509 Episode Num: 138 Episode Len: 2000 Reward: -461.0 Time Taken: 37.1138470173 secs\n",
            "Total Timesteps: 160509 Episode Num: 139 Episode Len: 2000 Reward: -954.7 Time Taken: 36.7741680145 secs\n",
            "Total Timesteps: 162509 Episode Num: 140 Episode Len: 2000 Reward: -1598.1 Time Taken: 36.9330940247 secs\n",
            "Total Timesteps: 164509 Episode Num: 141 Episode Len: 2000 Reward: 865.8 Time Taken: 36.8630678654 secs\n",
            "Total Timesteps: 166509 Episode Num: 142 Episode Len: 2000 Reward: -1128.9 Time Taken: 36.9909369946 secs\n",
            "Total Timesteps: 168509 Episode Num: 143 Episode Len: 2000 Reward: 123.3 Time Taken: 36.7387721539 secs\n",
            "Total Timesteps: 168720 Episode Num: 144 Episode Len: 211 Reward: 11.3 Time Taken: 3.87605190277 secs\n",
            "Total Timesteps: 170720 Episode Num: 145 Episode Len: 2000 Reward: 745.4 Time Taken: 37.108052969 secs\n",
            "Total Timesteps: 172720 Episode Num: 146 Episode Len: 2000 Reward: 687.3 Time Taken: 36.8557460308 secs\n",
            "Total Timesteps: 174720 Episode Num: 147 Episode Len: 2000 Reward: 653.3 Time Taken: 36.7462441921 secs\n",
            "Total Timesteps: 175060 Episode Num: 148 Episode Len: 340 Reward: -60.0 Time Taken: 6.30604481697 secs\n",
            "Total Timesteps: 177060 Episode Num: 149 Episode Len: 2000 Reward: 358.1 Time Taken: 36.6127049923 secs\n",
            "Total Timesteps: 179060 Episode Num: 150 Episode Len: 2000 Reward: -106.6 Time Taken: 36.8859288692 secs\n",
            "Total Timesteps: 179105 Episode Num: 151 Episode Len: 45 Reward: 4.4 Time Taken: 0.841869831085 secs\n",
            "Total Timesteps: 179106 Episode Num: 152 Episode Len: 1 Reward: -0.5 Time Taken: 0.0366349220276 secs\n",
            "Total Timesteps: 181106 Episode Num: 153 Episode Len: 2000 Reward: 749.1 Time Taken: 37.0876019001 secs\n",
            "Total Timesteps: 183106 Episode Num: 154 Episode Len: 2000 Reward: -1279.7 Time Taken: 37.049549818 secs\n",
            "Total Timesteps: 185106 Episode Num: 155 Episode Len: 2000 Reward: -14.8 Time Taken: 37.240101099 secs\n",
            "Total Timesteps: 187106 Episode Num: 156 Episode Len: 2000 Reward: 158.6 Time Taken: 38.1755928993 secs\n",
            "Total Timesteps: 189106 Episode Num: 157 Episode Len: 2000 Reward: -1015.6 Time Taken: 38.3531610966 secs\n",
            "Total Timesteps: 191106 Episode Num: 158 Episode Len: 2000 Reward: 682.5 Time Taken: 38.0835080147 secs\n",
            "Total Timesteps: 193106 Episode Num: 159 Episode Len: 2000 Reward: 51.6 Time Taken: 36.7691411972 secs\n",
            "Total Timesteps: 194545 Episode Num: 160 Episode Len: 1439 Reward: 18.4 Time Taken: 26.2380409241 secs\n",
            "Total Timesteps: 196545 Episode Num: 161 Episode Len: 2000 Reward: 605.1 Time Taken: 36.8556940556 secs\n",
            "Total Timesteps: 198545 Episode Num: 162 Episode Len: 2000 Reward: 121.0 Time Taken: 37.320941925 secs\n",
            "Total Timesteps: 200545 Episode Num: 163 Episode Len: 2000 Reward: -1026.8 Time Taken: 36.719094038 secs\n",
            "---------------------------------------\n",
            "Average Reward over the Evaluation Step: 83.510000\n",
            "---------------------------------------\n",
            "Total Timesteps: 202545 Episode Num: 164 Episode Len: 2000 Reward: 688.0 Time Taken: 37.0927789211 secs\n",
            "Total Timesteps: 204545 Episode Num: 165 Episode Len: 2000 Reward: -1706.6 Time Taken: 36.5081040859 secs\n",
            "Total Timesteps: 206545 Episode Num: 166 Episode Len: 2000 Reward: -539.2 Time Taken: 36.6338469982 secs\n",
            "Total Timesteps: 208545 Episode Num: 167 Episode Len: 2000 Reward: 534.1 Time Taken: 37.4611971378 secs\n",
            "Total Timesteps: 210545 Episode Num: 168 Episode Len: 2000 Reward: 315.8 Time Taken: 36.9915010929 secs\n",
            "Total Timesteps: 212545 Episode Num: 169 Episode Len: 2000 Reward: 462.1 Time Taken: 36.7675509453 secs\n",
            "Total Timesteps: 214545 Episode Num: 170 Episode Len: 2000 Reward: 10.0 Time Taken: 37.0895938873 secs\n",
            "Total Timesteps: 216545 Episode Num: 171 Episode Len: 2000 Reward: 819.1 Time Taken: 36.9047970772 secs\n",
            "Total Timesteps: 218545 Episode Num: 172 Episode Len: 2000 Reward: 723.8 Time Taken: 36.8765609264 secs\n",
            "Total Timesteps: 220545 Episode Num: 173 Episode Len: 2000 Reward: -1988 Time Taken: 37.1873059273 secs\n",
            "Total Timesteps: 222545 Episode Num: 174 Episode Len: 2000 Reward: 800.8 Time Taken: 37.0647311211 secs\n",
            "Total Timesteps: 224545 Episode Num: 175 Episode Len: 2000 Reward: 316.7 Time Taken: 37.0955388546 secs\n",
            "Total Timesteps: 226545 Episode Num: 176 Episode Len: 2000 Reward: -1789.3 Time Taken: 36.7796909809 secs\n",
            "Total Timesteps: 228545 Episode Num: 177 Episode Len: 2000 Reward: 847.2 Time Taken: 36.8447990417 secs\n",
            "Total Timesteps: 230545 Episode Num: 178 Episode Len: 2000 Reward: -1067.8 Time Taken: 37.1654961109 secs\n",
            "Total Timesteps: 232545 Episode Num: 179 Episode Len: 2000 Reward: 527.3 Time Taken: 37.0833880901 secs\n",
            "Total Timesteps: 232548 Episode Num: 180 Episode Len: 3 Reward: 0.4 Time Taken: 0.0707759857178 secs\n",
            "Total Timesteps: 234548 Episode Num: 181 Episode Len: 2000 Reward: -1923.1 Time Taken: 36.6251699924 secs\n",
            "Total Timesteps: 236548 Episode Num: 182 Episode Len: 2000 Reward: -774.3 Time Taken: 38.3431460857 secs\n",
            "Total Timesteps: 238548 Episode Num: 183 Episode Len: 2000 Reward: 18.9 Time Taken: 36.8621811867 secs\n",
            "Total Timesteps: 239299 Episode Num: 184 Episode Len: 751 Reward: -306.0 Time Taken: 13.9973731041 secs\n",
            "Total Timesteps: 241299 Episode Num: 185 Episode Len: 2000 Reward: -1246.6 Time Taken: 37.055907011 secs\n",
            "Total Timesteps: 243299 Episode Num: 186 Episode Len: 2000 Reward: 306.3 Time Taken: 36.8704738617 secs\n",
            "Total Timesteps: 243605 Episode Num: 187 Episode Len: 306 Reward: 73.1 Time Taken: 5.61578917503 secs\n",
            "Total Timesteps: 244671 Episode Num: 188 Episode Len: 1066 Reward: 309.0 Time Taken: 19.7333498001 secs\n",
            "Total Timesteps: 246671 Episode Num: 189 Episode Len: 2000 Reward: -1555.4 Time Taken: 36.9087259769 secs\n",
            "Total Timesteps: 248671 Episode Num: 190 Episode Len: 2000 Reward: 765.4 Time Taken: 36.6169760227 secs\n",
            "Total Timesteps: 250671 Episode Num: 191 Episode Len: 2000 Reward: 219.4 Time Taken: 36.2813630104 secs\n",
            "---------------------------------------\n",
            "Average Reward over the Evaluation Step: 364.930000\n",
            "---------------------------------------\n",
            "Total Timesteps: 252671 Episode Num: 192 Episode Len: 2000 Reward: -311.7 Time Taken: 37.2996020317 secs\n",
            "Total Timesteps: 254671 Episode Num: 193 Episode Len: 2000 Reward: 710.9 Time Taken: 36.7090902328 secs\n",
            "Total Timesteps: 256671 Episode Num: 194 Episode Len: 2000 Reward: 608.9 Time Taken: 36.6093668938 secs\n",
            "Total Timesteps: 258671 Episode Num: 195 Episode Len: 2000 Reward: 581.9 Time Taken: 36.7167708874 secs\n",
            "Total Timesteps: 260671 Episode Num: 196 Episode Len: 2000 Reward: 263.5 Time Taken: 36.3533761501 secs\n",
            "Total Timesteps: 262671 Episode Num: 197 Episode Len: 2000 Reward: 613.7 Time Taken: 36.235574007 secs\n",
            "Total Timesteps: 262750 Episode Num: 198 Episode Len: 79 Reward: 14.6 Time Taken: 1.41826701164 secs\n",
            "Total Timesteps: 264750 Episode Num: 199 Episode Len: 2000 Reward: 890.4 Time Taken: 36.1647589207 secs\n",
            "Total Timesteps: 264930 Episode Num: 200 Episode Len: 180 Reward: -19.7 Time Taken: 3.22574806213 secs\n",
            "Total Timesteps: 266930 Episode Num: 201 Episode Len: 2000 Reward: 907.8 Time Taken: 36.0498638153 secs\n",
            "Total Timesteps: 268930 Episode Num: 202 Episode Len: 2000 Reward: 288.3 Time Taken: 35.9484181404 secs\n",
            "Total Timesteps: 270930 Episode Num: 203 Episode Len: 2000 Reward: 832.8 Time Taken: 35.6723639965 secs\n",
            "Total Timesteps: 272930 Episode Num: 204 Episode Len: 2000 Reward: 243.1 Time Taken: 35.8417301178 secs\n",
            "Total Timesteps: 274930 Episode Num: 205 Episode Len: 2000 Reward: 105.7 Time Taken: 35.3847229481 secs\n",
            "Total Timesteps: 275036 Episode Num: 206 Episode Len: 106 Reward: -30.7 Time Taken: 1.9192609787 secs\n",
            "Total Timesteps: 277036 Episode Num: 207 Episode Len: 2000 Reward: 353.2 Time Taken: 36.0701560974 secs\n",
            "Total Timesteps: 279036 Episode Num: 208 Episode Len: 2000 Reward: 188.8 Time Taken: 35.3201830387 secs\n",
            "Total Timesteps: 281036 Episode Num: 209 Episode Len: 2000 Reward: 71.6 Time Taken: 35.3297350407 secs\n",
            "Total Timesteps: 283036 Episode Num: 210 Episode Len: 2000 Reward: 236.7 Time Taken: 35.5965690613 secs\n",
            "Total Timesteps: 283071 Episode Num: 211 Episode Len: 35 Reward: -32.5 Time Taken: 0.651660919189 secs\n",
            "Total Timesteps: 285071 Episode Num: 212 Episode Len: 2000 Reward: 59.6 Time Taken: 36.2679359913 secs\n",
            "Total Timesteps: 285089 Episode Num: 213 Episode Len: 18 Reward: -1.5 Time Taken: 0.346873998642 secs\n",
            "Total Timesteps: 285535 Episode Num: 214 Episode Len: 446 Reward: 62.7 Time Taken: 8.10383987427 secs\n",
            "Total Timesteps: 285819 Episode Num: 215 Episode Len: 284 Reward: -5.6 Time Taken: 5.08186078072 secs\n",
            "Total Timesteps: 287819 Episode Num: 216 Episode Len: 2000 Reward: 267.5 Time Taken: 36.2250480652 secs\n",
            "Total Timesteps: 289819 Episode Num: 217 Episode Len: 2000 Reward: -652.5 Time Taken: 36.3863749504 secs\n",
            "Total Timesteps: 291819 Episode Num: 218 Episode Len: 2000 Reward: -885.4 Time Taken: 36.449534893 secs\n",
            "Total Timesteps: 293819 Episode Num: 219 Episode Len: 2000 Reward: -908.7 Time Taken: 36.8136589527 secs\n",
            "Total Timesteps: 295819 Episode Num: 220 Episode Len: 2000 Reward: 15.8 Time Taken: 36.1712779999 secs\n",
            "Total Timesteps: 296200 Episode Num: 221 Episode Len: 381 Reward: -71.4 Time Taken: 6.93519496918 secs\n",
            "Total Timesteps: 298200 Episode Num: 222 Episode Len: 2000 Reward: 45.0 Time Taken: 37.0768921375 secs\n",
            "Total Timesteps: 300200 Episode Num: 223 Episode Len: 2000 Reward: 164.3 Time Taken: 36.7738080025 secs\n",
            "---------------------------------------\n",
            "Average Reward over the Evaluation Step: -40.980000\n",
            "---------------------------------------\n",
            "Total Timesteps: 302200 Episode Num: 224 Episode Len: 2000 Reward: 182.1 Time Taken: 36.6608090401 secs\n",
            "Total Timesteps: 304200 Episode Num: 225 Episode Len: 2000 Reward: -333.2 Time Taken: 36.8991110325 secs\n",
            "Total Timesteps: 306200 Episode Num: 226 Episode Len: 2000 Reward: 198.5 Time Taken: 36.9627029896 secs\n",
            "Total Timesteps: 308200 Episode Num: 227 Episode Len: 2000 Reward: -1614.8 Time Taken: 36.9021658897 secs\n",
            "Total Timesteps: 310200 Episode Num: 228 Episode Len: 2000 Reward: 450.8 Time Taken: 36.7650361061 secs\n",
            "Total Timesteps: 310217 Episode Num: 229 Episode Len: 17 Reward: -14.5 Time Taken: 0.338749170303 secs\n",
            "Total Timesteps: 312217 Episode Num: 230 Episode Len: 2000 Reward: -54.7 Time Taken: 36.9278388023 secs\n",
            "Total Timesteps: 314217 Episode Num: 231 Episode Len: 2000 Reward: -13.0 Time Taken: 38.8587651253 secs\n",
            "Total Timesteps: 316217 Episode Num: 232 Episode Len: 2000 Reward: -1207.7 Time Taken: 38.358497858 secs\n",
            "Total Timesteps: 318217 Episode Num: 233 Episode Len: 2000 Reward: 206.5 Time Taken: 37.1223070621 secs\n",
            "Total Timesteps: 320217 Episode Num: 234 Episode Len: 2000 Reward: 223.3 Time Taken: 37.9716119766 secs\n",
            "Total Timesteps: 320219 Episode Num: 235 Episode Len: 2 Reward: 0.5 Time Taken: 0.0537588596344 secs\n",
            "Total Timesteps: 322219 Episode Num: 236 Episode Len: 2000 Reward: 816.4 Time Taken: 37.3834021091 secs\n",
            "Total Timesteps: 324219 Episode Num: 237 Episode Len: 2000 Reward: 894.1 Time Taken: 36.9123790264 secs\n",
            "Total Timesteps: 326219 Episode Num: 238 Episode Len: 2000 Reward: 148.9 Time Taken: 37.0709409714 secs\n",
            "Total Timesteps: 326220 Episode Num: 239 Episode Len: 1 Reward: -0.5 Time Taken: 0.0348789691925 secs\n",
            "Total Timesteps: 328220 Episode Num: 240 Episode Len: 2000 Reward: 234.6 Time Taken: 36.3015449047 secs\n",
            "Total Timesteps: 330220 Episode Num: 241 Episode Len: 2000 Reward: 54.7 Time Taken: 36.2316100597 secs\n",
            "Total Timesteps: 332220 Episode Num: 242 Episode Len: 2000 Reward: 563.8 Time Taken: 36.1462619305 secs\n",
            "Total Timesteps: 334220 Episode Num: 243 Episode Len: 2000 Reward: 509.9 Time Taken: 36.3550992012 secs\n",
            "Total Timesteps: 336220 Episode Num: 244 Episode Len: 2000 Reward: 113.6 Time Taken: 36.1793620586 secs\n"
          ],
          "name": "stdout"
        }
      ]
    }
  ]
}